{
 "cells": [
  {
   "cell_type": "code",
   "execution_count": null,
   "metadata": {},
   "outputs": [],
   "source": [
    "import vtk\n",
    "import pandas as pd\n",
    "import numpy as np\n",
    "\n",
    "df = pd.read_csv(\"data/box_list.csv\")\n",
    "\n",
    "# VTKのPointsとCellsを作成\n",
    "points = vtk.vtkPoints()\n",
    "cells = vtk.vtkCellArray()\n",
    "\n",
    "for i, row in df.iterrows():\n",
    "    x, y, z = row['x'], row['y'], row['z']\n",
    "    lx, ly, lz = row['lx'], row['ly'], row['lz']\n",
    "\n",
    "    # ボックスの頂点をnumpyで計算\n",
    "    vertices = np.array([\n",
    "        [x - lx/2, y - ly/2, z - lz/2],\n",
    "        [x + lx/2, y - ly/2, z - lz/2],\n",
    "        [x + lx/2, y + ly/2, z - lz/2],\n",
    "        [x - lx/2, y + ly/2, z - lz/2],\n",
    "        [x - lx/2, y - ly/2, z + lz/2],\n",
    "        [x + lx/2, y - ly/2, z + lz/2],\n",
    "        [x + lx/2, y + ly/2, z + lz/2],\n",
    "        [x - lx/2, y + ly/2, z + lz/2],\n",
    "    ])\n",
    "\n",
    "    point_ids = []\n",
    "    \n",
    "    #ポイントの挿入\n",
    "    for v in vertices:\n",
    "        point_id = points.InsertNextPoint(v.tolist())\n",
    "        point_ids.append(point_id)\n",
    "\n",
    "    #六面体セルを作成\n",
    "    cell = vtk.vtkHexahedron()  #vtkVoxelからvtkHexahedronに変更\n",
    "    for j, pid in enumerate(point_ids):\n",
    "        cell.GetPointIds().SetId(j, pid)\n",
    "    cells.InsertNextCell(cell)\n",
    "\n",
    "grid = vtk.vtkUnstructuredGrid()\n",
    "grid.SetPoints(points)\n",
    "grid.SetCells(vtk.VTK_HEXAHEDRON, cells)  #VTK_HEXAHEDRONを指定\n",
    "\n",
    "writer = vtk.vtkUnstructuredGridWriter()\n",
    "writer.SetFileName(\"output.vtk\")\n",
    "writer.SetInputData(grid)\n",
    "writer.Write()"
   ]
  }
 ],
 "metadata": {
  "language_info": {
   "name": "python"
  }
 },
 "nbformat": 4,
 "nbformat_minor": 2
}
