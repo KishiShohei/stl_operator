{
 "cells": [
  {
   "cell_type": "code",
   "execution_count": 1,
   "metadata": {},
   "outputs": [
    {
     "data": {
      "text/plain": [
       "1"
      ]
     },
     "execution_count": 1,
     "metadata": {},
     "output_type": "execute_result"
    }
   ],
   "source": [
    "import vtk\n",
    "import pandas as pd\n",
    "import numpy as np\n",
    "\n",
    "df = pd.read_csv(\"../data/box_list.csv\")\n",
    "\n",
    "#Points,Cellsを作成\n",
    "points = vtk.vtkPoints()\n",
    "cells = vtk.vtkCellArray()\n",
    "\n",
    "#scale_factor(csvがm表記の場合mmに変換する.)\n",
    "scale_factor = 1000\n",
    "\n",
    "for i, row in df.iterrows():\n",
    "    x, y, z = row['x'], row['y'], row['z']\n",
    "    lx, ly, lz = row['lx'], row['ly'], row['lz']\n",
    "\n",
    "    #ボックスの頂点をnumpyで計算\n",
    "    vertices = np.array([\n",
    "        [x - lx/2, y - ly/2, z - lz/2],\n",
    "        [x + lx/2, y - ly/2, z - lz/2],\n",
    "        [x + lx/2, y + ly/2, z - lz/2],\n",
    "        [x - lx/2, y + ly/2, z - lz/2],\n",
    "        [x - lx/2, y - ly/2, z + lz/2],\n",
    "        [x + lx/2, y - ly/2, z + lz/2],\n",
    "        [x + lx/2, y + ly/2, z + lz/2],\n",
    "        [x - lx/2, y + ly/2, z + lz/2],\n",
    "    ])* scale_factor\n",
    "\n",
    "    point_ids = []\n",
    "    \n",
    "    #ポイントの挿入\n",
    "    for v in vertices:\n",
    "        point_id = points.InsertNextPoint(v.tolist())\n",
    "        point_ids.append(point_id)\n",
    "\n",
    "    #六面体セルを作成\n",
    "    cell = vtk.vtkHexahedron()  #vtkVoxelからvtkHexahedronに変更\n",
    "    for j, pid in enumerate(point_ids):\n",
    "        cell.GetPointIds().SetId(j, pid)\n",
    "    cells.InsertNextCell(cell)\n",
    "\n",
    "grid = vtk.vtkUnstructuredGrid()\n",
    "grid.SetPoints(points)\n",
    "grid.SetCells(vtk.VTK_HEXAHEDRON, cells)  #VTK_HEXAHEDRONを指定\n",
    "\n",
    "writer = vtk.vtkUnstructuredGridWriter()\n",
    "writer.SetFileName(\"../data/output.vtk\")\n",
    "writer.SetInputData(grid)\n",
    "writer.Write()"
   ]
  }
 ],
 "metadata": {
  "kernelspec": {
   "display_name": "Python 3",
   "language": "python",
   "name": "python3"
  },
  "language_info": {
   "codemirror_mode": {
    "name": "ipython",
    "version": 3
   },
   "file_extension": ".py",
   "mimetype": "text/x-python",
   "name": "python",
   "nbconvert_exporter": "python",
   "pygments_lexer": "ipython3",
   "version": "3.11.5"
  }
 },
 "nbformat": 4,
 "nbformat_minor": 2
}
