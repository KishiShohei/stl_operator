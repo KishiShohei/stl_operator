{
 "cells": [
  {
   "cell_type": "markdown",
   "metadata": {},
   "source": [
    "必要なライブラリのインポート"
   ]
  },
  {
   "cell_type": "code",
   "execution_count": 10,
   "metadata": {},
   "outputs": [],
   "source": [
    "import pandas as pd\n",
    "from natsort import natsorted\n",
    "import glob\n",
    "import os"
   ]
  },
  {
   "cell_type": "markdown",
   "metadata": {},
   "source": [
    "ファイル数を数える,対象`csv`のパス取得"
   ]
  },
  {
   "cell_type": "code",
   "execution_count": 11,
   "metadata": {},
   "outputs": [
    {
     "name": "stdout",
     "output_type": "stream",
     "text": [
      "72\n"
     ]
    }
   ],
   "source": [
    "dir_path = \"../data/triangle/csv/\"\n",
    "\n",
    "file_list = os.listdir(dir_path)\n",
    "size = len(file_list)\n",
    "print(size)\n",
    "\n",
    "csv_path_list = []\n",
    "csv_path_list = natsorted(glob.glob(\"../data/triangle/csv/*.csv\"))"
   ]
  },
  {
   "cell_type": "markdown",
   "metadata": {},
   "source": [
    "桁数表記設定(小数点以下)"
   ]
  },
  {
   "cell_type": "code",
   "execution_count": 12,
   "metadata": {},
   "outputs": [],
   "source": [
    "pd.set_option('display.float_format', '{:.14f}'.format)"
   ]
  },
  {
   "cell_type": "markdown",
   "metadata": {},
   "source": [
    "中心座標の割り出し(最頻値)"
   ]
  },
  {
   "cell_type": "code",
   "execution_count": 13,
   "metadata": {},
   "outputs": [],
   "source": [
    "center_coord = []\n",
    "for file_index in range(0, size):\n",
    "    df = pd.read_csv(csv_path_list[file_index], header=None)\n",
    "    row_mode = df.mode(axis=0)\n",
    "    result = pd.DataFrame()\n",
    "    for column in df.columns:\n",
    "        mode_value = row_mode[column][0]\n",
    "        mode_rows = df[df[column] == mode_value]\n",
    "        result = pd.concat([result, mode_rows], axis=0)\n",
    "    result = result.drop_duplicates()\n",
    "    center_coord.append(result)\n",
    "\n",
    "# リスト内のすべてのDataFrameを結合\n",
    "combined_df = pd.concat(center_coord, ignore_index=True)\n",
    "\n",
    "# 上から順番に中心座標\n",
    "csv_path = '../data/center_coord.csv'\n",
    "combined_df.to_csv(csv_path, index=False, header=False)\n"
   ]
  }
 ],
 "metadata": {
  "kernelspec": {
   "display_name": "Python 3",
   "language": "python",
   "name": "python3"
  },
  "language_info": {
   "codemirror_mode": {
    "name": "ipython",
    "version": 3
   },
   "file_extension": ".py",
   "mimetype": "text/x-python",
   "name": "python",
   "nbconvert_exporter": "python",
   "pygments_lexer": "ipython3",
   "version": "3.11.5"
  }
 },
 "nbformat": 4,
 "nbformat_minor": 2
}
